{
  "cells": [
    {
      "cell_type": "code",
      "execution_count": 3,
      "id": "68ffd726",
      "metadata": {
        "id": "68ffd726",
        "outputId": "0feff852-6c07-4b59-b23d-7541dd0b6330",
        "colab": {
          "base_uri": "https://localhost:8080/"
        }
      },
      "outputs": [
        {
          "output_type": "stream",
          "name": "stdout",
          "text": [
            "[[10 20 30]\n",
            " [50 80 70]]\n",
            "Array created: [[10 20 30]\n",
            " [50 80 70]]\n"
          ]
        }
      ],
      "source": [
        "import numpy as np\n",
        "a=np.array(([10,20,30],[50,80,70]))\n",
        "print(a)\n",
        "print(\"Array created:\",a)"
      ]
    },
    {
      "cell_type": "code",
      "execution_count": 4,
      "id": "2519c558",
      "metadata": {
        "id": "2519c558",
        "outputId": "8becebc1-d18a-421d-b546-6b1b06d8b83f",
        "colab": {
          "base_uri": "https://localhost:8080/"
        }
      },
      "outputs": [
        {
          "output_type": "stream",
          "name": "stdout",
          "text": [
            "\n",
            " Array with zeros: \n",
            " [[0. 0. 0. 0. 0.]\n",
            " [0. 0. 0. 0. 0.]\n",
            " [0. 0. 0. 0. 0.]]\n"
          ]
        }
      ],
      "source": [
        "import numpy as np\n",
        "a=np.zeros((3,5))\n",
        "print(\"\\n Array with zeros: \\n\",a)"
      ]
    },
    {
      "cell_type": "code",
      "execution_count": 6,
      "id": "e6d01a1d",
      "metadata": {
        "id": "e6d01a1d",
        "outputId": "f434ab43-9b3d-4999-9321-8e4db7f7615a",
        "colab": {
          "base_uri": "https://localhost:8080/"
        }
      },
      "outputs": [
        {
          "output_type": "stream",
          "name": "stdout",
          "text": [
            "\n",
            " Random values: \n",
            " [[0.96215424 0.32525691 0.46348827]\n",
            " [0.59013654 0.30860514 0.77285216]\n",
            " [0.30485834 0.92448078 0.96127783]]\n"
          ]
        }
      ],
      "source": [
        "import numpy as np\n",
        "d=np.random.random((3,3))\n",
        "print(\"\\n Random values: \\n\",d)"
      ]
    },
    {
      "cell_type": "code",
      "execution_count": 7,
      "id": "4854ffcf",
      "metadata": {
        "id": "4854ffcf",
        "outputId": "0ee44399-2eb3-4dbf-f51f-bee9e62a60f2",
        "colab": {
          "base_uri": "https://localhost:8080/"
        }
      },
      "outputs": [
        {
          "output_type": "stream",
          "name": "stdout",
          "text": [
            "\n",
            " A sequence array with steps 5: \n",
            " [ 0  5 10 15 20 25 30 35]\n"
          ]
        }
      ],
      "source": [
        "import numpy as np\n",
        "e=np.arange(0,40,5)\n",
        "print(\"\\n A sequence array with steps 5: \\n\",e)\n"
      ]
    },
    {
      "cell_type": "code",
      "source": [
        "import numpy as np\n",
        "f=np. full((3,4),(7))\n",
        "print(f)"
      ],
      "metadata": {
        "colab": {
          "base_uri": "https://localhost:8080/"
        },
        "id": "yWMIFCSsv-j7",
        "outputId": "f21dd608-99ab-44b3-cba5-f81b8ffaca53"
      },
      "id": "yWMIFCSsv-j7",
      "execution_count": 8,
      "outputs": [
        {
          "output_type": "stream",
          "name": "stdout",
          "text": [
            "[[7 7 7 7]\n",
            " [7 7 7 7]\n",
            " [7 7 7 7]]\n"
          ]
        }
      ]
    },
    {
      "cell_type": "code",
      "execution_count": 9,
      "id": "4a1bdd24",
      "metadata": {
        "id": "4a1bdd24",
        "outputId": "009b125b-8107-4764-ae4e-423cba05feca",
        "colab": {
          "base_uri": "https://localhost:8080/"
        }
      },
      "outputs": [
        {
          "output_type": "stream",
          "name": "stdout",
          "text": [
            "\n",
            " Original array:\n",
            " [[ 1  2  3  4]\n",
            " [10 20 30 40]\n",
            " [11 22 33 44]]\n",
            "\n",
            " reshaped array:\n",
            " [[ 1  2  3]\n",
            " [ 4 10 20]\n",
            " [30 40 11]\n",
            " [22 33 44]]\n"
          ]
        }
      ],
      "source": [
        "import numpy as op\n",
        "arr=np.array([[1,2,3,4],[10,20,30,40],[11,22,33,44]])\n",
        "newarr=arr.reshape(4,3)\n",
        "print(\"\\n Original array:\\n\",arr)\n",
        "print(\"\\n reshaped array:\\n\",newarr)"
      ]
    },
    {
      "cell_type": "code",
      "execution_count": 10,
      "id": "0c5252e7",
      "metadata": {
        "id": "0c5252e7",
        "colab": {
          "base_uri": "https://localhost:8080/"
        },
        "outputId": "1499c761-8c1f-45a5-9e00-46cf9c21c376"
      },
      "outputs": [
        {
          "output_type": "stream",
          "name": "stdout",
          "text": [
            "\n",
            " Original array \n",
            " [[ 1  2  3  4]\n",
            " [10 20 30 40]\n",
            " [11 22 33 44]]\n",
            "\n",
            " flatten array \n",
            " [ 1  2  3  4 10 20 30 40 11 22 33 44]\n"
          ]
        }
      ],
      "source": [
        "flat=arr.flatten()\n",
        "print(\"\\n Original array \\n\",arr)\n",
        "print(\"\\n flatten array \\n\",flat)"
      ]
    },
    {
      "cell_type": "code",
      "source": [
        "arr=np.array(([1,2,3,4],[10,20,30,40],[11,22,33,44]))\n",
        "print(\"\\n no. of dimensions:\",arr.ndim)"
      ],
      "metadata": {
        "colab": {
          "base_uri": "https://localhost:8080/"
        },
        "id": "DuOi7zg9Ekec",
        "outputId": "01ccf252-a2a8-43d5-8a2a-45db93a3d256"
      },
      "id": "DuOi7zg9Ekec",
      "execution_count": 11,
      "outputs": [
        {
          "output_type": "stream",
          "name": "stdout",
          "text": [
            "\n",
            " no. of dimensions: 2\n"
          ]
        }
      ]
    },
    {
      "cell_type": "code",
      "source": [
        "arr=np.array(([1,2,3,4],[10,20,30,40],[11,22,33,44]))\n",
        "print(\"\\n shape of the array:\",arr.shape)"
      ],
      "metadata": {
        "colab": {
          "base_uri": "https://localhost:8080/"
        },
        "id": "wrCvrMYHEvds",
        "outputId": "b51871b4-a1a5-4c65-f81c-5bf2334ed53c"
      },
      "id": "wrCvrMYHEvds",
      "execution_count": 12,
      "outputs": [
        {
          "output_type": "stream",
          "name": "stdout",
          "text": [
            "\n",
            " shape of the array: (3, 4)\n"
          ]
        }
      ]
    },
    {
      "cell_type": "code",
      "source": [
        "import numpy as np\n",
        "arr=np.array(([1,2,3,4],[10,20,30,40],[11,22,33,44]))\n",
        "print(\"\\n Array element type:\",type(arr))"
      ],
      "metadata": {
        "colab": {
          "base_uri": "https://localhost:8080/"
        },
        "id": "JtFKHnfQE4Em",
        "outputId": "c928bd76-7927-4701-a634-4e65650e2637"
      },
      "id": "JtFKHnfQE4Em",
      "execution_count": 13,
      "outputs": [
        {
          "output_type": "stream",
          "name": "stdout",
          "text": [
            "\n",
            " Array element type: <class 'numpy.ndarray'>\n"
          ]
        }
      ]
    },
    {
      "cell_type": "code",
      "source": [
        "arr=np.array(([1,2,3,4],[10,20,30,40],[11,22,33,44]))\n",
        "newtype=arr.astype('f')\n",
        "print(\"\\n converted array element: \\n\",newtype)\n",
        "print(\"converted array type:\",newtype.dtype)\n",
        "size=len(arr)\n",
        "print(\"\\n Size of array: \\n\",size)"
      ],
      "metadata": {
        "colab": {
          "base_uri": "https://localhost:8080/"
        },
        "id": "5BuzHcxCE-aq",
        "outputId": "b82641ae-ba98-4735-eccf-d21522451cab"
      },
      "id": "5BuzHcxCE-aq",
      "execution_count": 14,
      "outputs": [
        {
          "output_type": "stream",
          "name": "stdout",
          "text": [
            "\n",
            " converted array element: \n",
            " [[ 1.  2.  3.  4.]\n",
            " [10. 20. 30. 40.]\n",
            " [11. 22. 33. 44.]]\n",
            "converted array type: float32\n",
            "\n",
            " Size of array: \n",
            " 3\n"
          ]
        }
      ]
    },
    {
      "cell_type": "code",
      "source": [
        "size=len(arr)\n",
        "print(\"\\n size of array:\\n\",size)"
      ],
      "metadata": {
        "colab": {
          "base_uri": "https://localhost:8080/"
        },
        "id": "GxGMrMR4FH0o",
        "outputId": "c9a44770-f779-4bbc-80b3-a4ec19720318"
      },
      "id": "GxGMrMR4FH0o",
      "execution_count": 15,
      "outputs": [
        {
          "output_type": "stream",
          "name": "stdout",
          "text": [
            "\n",
            " size of array:\n",
            " 3\n"
          ]
        }
      ]
    }
  ],
  "metadata": {
    "kernelspec": {
      "display_name": "Python 3 (ipykernel)",
      "language": "python",
      "name": "python3"
    },
    "language_info": {
      "codemirror_mode": {
        "name": "ipython",
        "version": 3
      },
      "file_extension": ".py",
      "mimetype": "text/x-python",
      "name": "python",
      "nbconvert_exporter": "python",
      "pygments_lexer": "ipython3",
      "version": "3.11.5"
    },
    "colab": {
      "provenance": []
    }
  },
  "nbformat": 4,
  "nbformat_minor": 5
}