{
  "nbformat": 4,
  "nbformat_minor": 0,
  "metadata": {
    "colab": {
      "provenance": []
    },
    "kernelspec": {
      "name": "python3",
      "display_name": "Python 3"
    },
    "language_info": {
      "name": "python"
    }
  },
  "cells": [
    {
      "cell_type": "code",
      "execution_count": null,
      "metadata": {
        "colab": {
          "base_uri": "https://localhost:8080/"
        },
        "id": "m0L8vM0vb0wd",
        "outputId": "8cfe6694-8802-4e61-f1d5-f0b6b8315093"
      },
      "outputs": [
        {
          "output_type": "stream",
          "name": "stdout",
          "text": [
            "[3 4 5 6]\n"
          ]
        }
      ],
      "source": [
        "import numpy as np\n",
        "arr=np.array([1,2,3,4,5,6,7,8,9])\n",
        "slice1=arr[2:6]\n",
        "print(slice1)"
      ]
    },
    {
      "cell_type": "code",
      "source": [
        "slice2=arr[::2]\n",
        "print(slice2)"
      ],
      "metadata": {
        "colab": {
          "base_uri": "https://localhost:8080/"
        },
        "id": "UGepkZ9gcj8s",
        "outputId": "6ae58a88-b6e5-47aa-ad55-6f6f38f8f518"
      },
      "execution_count": null,
      "outputs": [
        {
          "output_type": "stream",
          "name": "stdout",
          "text": [
            "[1 3 5 7 9]\n"
          ]
        }
      ]
    },
    {
      "cell_type": "code",
      "source": [
        "rev_arr=arr[::-1]\n",
        "print(rev_arr)"
      ],
      "metadata": {
        "colab": {
          "base_uri": "https://localhost:8080/"
        },
        "id": "s60HO68NNxqA",
        "outputId": "78fd7d5f-2a0b-415d-8788-149a36a0ba03"
      },
      "execution_count": null,
      "outputs": [
        {
          "output_type": "stream",
          "name": "stdout",
          "text": [
            "[9 8 7 6 5 4 3 2 1]\n"
          ]
        }
      ]
    },
    {
      "cell_type": "code",
      "source": [
        "import numpy as np\n",
        "a=np.array([[1,2,3,4],[5,6,7,8],[9,10,11,12]])\n",
        "print(a[0:3:2])\n",
        "print(a[::2])\n",
        "print(a[1::])\n",
        "print(a[2:,2:])\n",
        "print(a[:2])\n",
        "print(a[:2:3])"
      ],
      "metadata": {
        "colab": {
          "base_uri": "https://localhost:8080/"
        },
        "id": "tVm8IZQ5N7IN",
        "outputId": "82c96e23-20ca-4fa2-93be-4c9bcb8f31b4"
      },
      "execution_count": 2,
      "outputs": [
        {
          "output_type": "stream",
          "name": "stdout",
          "text": [
            "[[ 1  2  3  4]\n",
            " [ 9 10 11 12]]\n",
            "[[ 1  2  3  4]\n",
            " [ 9 10 11 12]]\n",
            "[[ 5  6  7  8]\n",
            " [ 9 10 11 12]]\n",
            "[[11 12]]\n",
            "[[1 2 3 4]\n",
            " [5 6 7 8]]\n",
            "[[1 2 3 4]]\n"
          ]
        }
      ]
    },
    {
      "cell_type": "code",
      "source": [
        "import numpy as np\n",
        "arr=np.array([[1,2,3],[4,5,6],[7,8,9]])\n",
        "subarray=arr[0:2,1:3]\n",
        "print(subarray)"
      ],
      "metadata": {
        "colab": {
          "base_uri": "https://localhost:8080/"
        },
        "id": "KXCyo20zN95v",
        "outputId": "aa189075-1421-4e1d-d6e6-bfe7547b68fb"
      },
      "execution_count": 5,
      "outputs": [
        {
          "output_type": "stream",
          "name": "stdout",
          "text": [
            "[[2 3]\n",
            " [5 6]]\n"
          ]
        }
      ]
    },
    {
      "cell_type": "code",
      "source": [
        "reversed_array=arr[::-1]\n",
        "print(reversed_array)"
      ],
      "metadata": {
        "colab": {
          "base_uri": "https://localhost:8080/"
        },
        "id": "NDh0eyjPOAds",
        "outputId": "57fdb290-8fa2-4115-be3f-b4dfa6f44bf7"
      },
      "execution_count": 6,
      "outputs": [
        {
          "output_type": "stream",
          "name": "stdout",
          "text": [
            "[[7 8 9]\n",
            " [4 5 6]\n",
            " [1 2 3]]\n"
          ]
        }
      ]
    },
    {
      "cell_type": "code",
      "source": [
        "col1=arr[:,0]\n",
        "print(col1)"
      ],
      "metadata": {
        "colab": {
          "base_uri": "https://localhost:8080/"
        },
        "id": "E82H8CTcOEHm",
        "outputId": "4c663822-4609-4225-f772-c7a0a36042cf"
      },
      "execution_count": 7,
      "outputs": [
        {
          "output_type": "stream",
          "name": "stdout",
          "text": [
            "[1 4 7]\n"
          ]
        }
      ]
    },
    {
      "cell_type": "code",
      "source": [
        "row1=arr[0,:]\n",
        "print(row1)"
      ],
      "metadata": {
        "colab": {
          "base_uri": "https://localhost:8080/"
        },
        "id": "00Z8diNkOHUG",
        "outputId": "ad7cf3b6-6245-4d70-b9d7-42cc5bb8c8fa"
      },
      "execution_count": 9,
      "outputs": [
        {
          "output_type": "stream",
          "name": "stdout",
          "text": [
            "[1 2 3]\n"
          ]
        }
      ]
    },
    {
      "cell_type": "code",
      "source": [
        "import numpy as np\n",
        "arr=np.array([10,20,30,40,50])\n",
        "print(arr[0])\n",
        "print(arr[4])\n",
        "print(arr[-1])\n",
        "print(arr[1:4])\n",
        "print(arr[arr>25])\n",
        "print(arr[[1,3]])"
      ],
      "metadata": {
        "colab": {
          "base_uri": "https://localhost:8080/"
        },
        "id": "QgqwDHp_OwzG",
        "outputId": "ae5ea769-410c-4306-bc53-24f1a01f3cdc"
      },
      "execution_count": null,
      "outputs": [
        {
          "output_type": "stream",
          "name": "stdout",
          "text": [
            "10\n",
            "50\n",
            "50\n",
            "[20 30 40]\n",
            "[30 40 50]\n",
            "[20 40]\n"
          ]
        }
      ]
    },
    {
      "cell_type": "code",
      "source": [
        "import numpy as np\n",
        "arr=np.array(([1,2,3],[4,5,6],[7,8,9]))\n",
        "print(arr[0,0])\n",
        "print(arr[1,2])"
      ],
      "metadata": {
        "colab": {
          "base_uri": "https://localhost:8080/"
        },
        "id": "CMmz5yac3whF",
        "outputId": "070b4ce8-c3b6-4ca7-844e-ad14d936b0fe"
      },
      "execution_count": 11,
      "outputs": [
        {
          "output_type": "stream",
          "name": "stdout",
          "text": [
            "1\n",
            "6\n"
          ]
        }
      ]
    },
    {
      "cell_type": "code",
      "source": [
        "import numpy as np\n",
        "arr1=np.array([[1,2],[3,4]])\n",
        "arr2=np.array([[5,6],[7,8]])\n",
        "result=np.hstack((arr1,arr2))\n",
        "print(result)"
      ],
      "metadata": {
        "colab": {
          "base_uri": "https://localhost:8080/"
        },
        "id": "O948QjUaO1_G",
        "outputId": "58094210-a08c-4531-f0d5-e8090896e39e"
      },
      "execution_count": null,
      "outputs": [
        {
          "output_type": "stream",
          "name": "stdout",
          "text": [
            "[[1 2 5 6]\n",
            " [3 4 7 8]]\n"
          ]
        }
      ]
    },
    {
      "cell_type": "code",
      "source": [
        "result1=np.hstack((arr1,arr2))\n",
        "print(result1)"
      ],
      "metadata": {
        "colab": {
          "base_uri": "https://localhost:8080/"
        },
        "id": "eqILHNxaPM_n",
        "outputId": "32010553-ab0a-4ba0-e69a-853b66e33a48"
      },
      "execution_count": null,
      "outputs": [
        {
          "output_type": "stream",
          "name": "stdout",
          "text": [
            "[[1 2 5 6]\n",
            " [3 4 7 8]]\n"
          ]
        }
      ]
    },
    {
      "cell_type": "code",
      "source": [
        "result2=np.dstack((arr1,arr2))\n",
        "print(result2)"
      ],
      "metadata": {
        "colab": {
          "base_uri": "https://localhost:8080/"
        },
        "id": "hoJCKsk4PR6Q",
        "outputId": "547d1e71-16df-4e47-848d-2b6a16b26a36"
      },
      "execution_count": null,
      "outputs": [
        {
          "output_type": "stream",
          "name": "stdout",
          "text": [
            "[[[1 5]\n",
            "  [2 6]]\n",
            "\n",
            " [[3 7]\n",
            "  [4 8]]]\n"
          ]
        }
      ]
    },
    {
      "cell_type": "code",
      "source": [
        "import numpy as np\n",
        "arr=np.array([1,2,3,4,5,6])\n",
        "result=np.split(arr,3)\n",
        "print(result)\n",
        "arr1=np.array([1,2,3,4,5])\n",
        "result1=np.array_split(arr,3)\n",
        "print(result1)\n",
        "arr2=np.array([[1,2,3],[4,5,6]])\n",
        "result2=np.hsplit(arr,3)\n",
        "print(result2)\n",
        "arr3=np.array([[1,2,3],[4,5,6],[7,8,9]])\n",
        "result3=np.vsplit(arr3,3)\n",
        "print(result3)\n",
        "arr4=np.array([[[1,2],[3,4]],[[5,6],[7,8]]])\n",
        "result4=np.split(arr4,2)\n",
        "print(result4)"
      ],
      "metadata": {
        "colab": {
          "base_uri": "https://localhost:8080/"
        },
        "id": "miBq_zIsPUIq",
        "outputId": "925909cb-1617-41a0-f773-4122d46f8859"
      },
      "execution_count": null,
      "outputs": [
        {
          "output_type": "stream",
          "name": "stdout",
          "text": [
            "[array([1, 2]), array([3, 4]), array([5, 6])]\n",
            "[array([1, 2]), array([3, 4]), array([5, 6])]\n",
            "[array([1, 2]), array([3, 4]), array([5, 6])]\n",
            "[array([[1, 2, 3]]), array([[4, 5, 6]]), array([[7, 8, 9]])]\n",
            "[array([[[1, 2],\n",
            "        [3, 4]]]), array([[[5, 6],\n",
            "        [7, 8]]])]\n"
          ]
        }
      ]
    }
  ]
}