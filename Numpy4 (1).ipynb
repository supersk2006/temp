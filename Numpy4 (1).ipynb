{
  "nbformat": 4,
  "nbformat_minor": 0,
  "metadata": {
    "colab": {
      "provenance": []
    },
    "kernelspec": {
      "name": "python3",
      "display_name": "Python 3"
    },
    "language_info": {
      "name": "python"
    }
  },
  "cells": [
    {
      "cell_type": "code",
      "execution_count": 1,
      "metadata": {
        "colab": {
          "base_uri": "https://localhost:8080/"
        },
        "id": "EitSi5XLUXX9",
        "outputId": "3bd03e69-9483-42d4-e4ac-ba4b91bc6379"
      },
      "outputs": [
        {
          "output_type": "stream",
          "name": "stdout",
          "text": [
            "[10 20 30 40 50]\n",
            "[6 2 9 7 1]\n",
            "[16 22 39 47 51]\n",
            "[ 4 18 21 33 49]\n",
            "[ 60  40 270 280  50]\n",
            "[ 1.66666667 10.          3.33333333  5.71428571 50.        ]\n"
          ]
        }
      ],
      "source": [
        " import numpy as np\n",
        "arr1=[10,20,30,40,50]\n",
        "arr2=[6,2,9,7,1]\n",
        "a=np.array(arr1)\n",
        "b=np.array(arr2)\n",
        "print(a)\n",
        "print(b)\n",
        "print(a+b)\n",
        "print(a-b)\n",
        "print(a*b)\n",
        "print(a/b)"
      ]
    },
    {
      "cell_type": "code",
      "source": [
        "print(a.dot(b))"
      ],
      "metadata": {
        "colab": {
          "base_uri": "https://localhost:8080/"
        },
        "id": "zfribM6cUvYa",
        "outputId": "0ae8b9de-756b-4840-fb44-1402bfcd1ead"
      },
      "execution_count": 2,
      "outputs": [
        {
          "output_type": "stream",
          "name": "stdout",
          "text": [
            "700\n"
          ]
        }
      ]
    },
    {
      "cell_type": "code",
      "source": [
        "sclr=3\n",
        "print(\"scalar value\",sclr)\n",
        "print(\"Array:\",a)\n",
        "print(\"Result:\",a*sclr)"
      ],
      "metadata": {
        "colab": {
          "base_uri": "https://localhost:8080/"
        },
        "id": "nIz_mdBwU3RU",
        "outputId": "f5f5ac83-ab67-4578-b713-151e3f275f7b"
      },
      "execution_count": 5,
      "outputs": [
        {
          "output_type": "stream",
          "name": "stdout",
          "text": [
            "scalar value 3\n",
            "Array: [10 20 30 40 50]\n",
            "Result: [ 30  60  90 120 150]\n"
          ]
        }
      ]
    },
    {
      "cell_type": "code",
      "source": [
        "import numpy as np\n",
        "a=np.array([[10,20],[30,40]])\n",
        "b=np.array([[3,7],[5,9]])\n",
        "print(a%b)"
      ],
      "metadata": {
        "colab": {
          "base_uri": "https://localhost:8080/"
        },
        "id": "4EntbdbKVRce",
        "outputId": "67f5b3ee-79c6-488f-a542-d4ca7ad2f38f"
      },
      "execution_count": 6,
      "outputs": [
        {
          "output_type": "stream",
          "name": "stdout",
          "text": [
            "[[1 6]\n",
            " [0 4]]\n"
          ]
        }
      ]
    },
    {
      "cell_type": "code",
      "source": [
        " def my_func(x,y):\n",
        "  if x>y:\n",
        "   return x-y\n",
        "  else:\n",
        "   return x+y\n",
        "arr1=[10,20,30,40]\n",
        "arr2=[2,10,35,25]\n",
        "vect_func=np.vectorize(my_func)\n",
        "print(\"Array1:\",arr1)\n",
        "print(\"Array2:\",arr2)\n",
        "print(\"Result:\",vect_func(arr1,arr2))"
      ],
      "metadata": {
        "colab": {
          "base_uri": "https://localhost:8080/"
        },
        "id": "pu50tZORVZgO",
        "outputId": "725b1e8f-114c-4975-8782-2bd82afddb2e"
      },
      "execution_count": 16,
      "outputs": [
        {
          "output_type": "stream",
          "name": "stdout",
          "text": [
            "Array1: [10, 20, 30, 40]\n",
            "Array2: [2, 10, 35, 25]\n",
            "Result: [ 8 10 65 15]\n"
          ]
        }
      ]
    }
  ]
}