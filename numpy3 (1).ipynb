{
  "nbformat": 4,
  "nbformat_minor": 0,
  "metadata": {
    "colab": {
      "provenance": []
    },
    "kernelspec": {
      "name": "python3",
      "display_name": "Python 3"
    },
    "language_info": {
      "name": "python"
    }
  },
  "cells": [
    {
      "cell_type": "code",
      "execution_count": 1,
      "metadata": {
        "colab": {
          "base_uri": "https://localhost:8080/"
        },
        "id": "HfkwlBNxWnaC",
        "outputId": "10fbf53d-fddc-41cd-9a36-96905e21db8c"
      },
      "outputs": [
        {
          "output_type": "stream",
          "name": "stdout",
          "text": [
            "(array([5]),)\n"
          ]
        }
      ],
      "source": [
        "import numpy as np\n",
        "arr=np.array([1,6,2,7,6,4])\n",
        "x=np.where(arr==4)\n",
        "print(x)"
      ]
    },
    {
      "cell_type": "code",
      "source": [
        "arr=np.array([1,6,2,7,6,4])\n",
        "x=np.where(arr%2==0)\n",
        "print(x)"
      ],
      "metadata": {
        "colab": {
          "base_uri": "https://localhost:8080/"
        },
        "id": "1DrUSO9eW2S4",
        "outputId": "7e2a7599-210c-4a9a-b1c7-c95a636ff931"
      },
      "execution_count": 2,
      "outputs": [
        {
          "output_type": "stream",
          "name": "stdout",
          "text": [
            "(array([1, 2, 4, 5]),)\n"
          ]
        }
      ]
    },
    {
      "cell_type": "code",
      "source": [
        "import numpy as np\n",
        "arr=np.array([0,1,2,2,7,8,9])\n",
        "x=np.searchsorted(arr,3,side='left')\n",
        "print(x)"
      ],
      "metadata": {
        "colab": {
          "base_uri": "https://localhost:8080/"
        },
        "id": "l-xLGfYVW5DB",
        "outputId": "86411c74-3f04-4a42-bf02-d58c93b41e7e"
      },
      "execution_count": 3,
      "outputs": [
        {
          "output_type": "stream",
          "name": "stdout",
          "text": [
            "4\n"
          ]
        }
      ]
    },
    {
      "cell_type": "code",
      "source": [
        "arr=np.array([0,1,5,3,6,7,2])\n",
        "x1=np.searchsorted(arr,3,side='left')\n",
        "print(x1)"
      ],
      "metadata": {
        "colab": {
          "base_uri": "https://localhost:8080/"
        },
        "id": "YwfdonB6W7By",
        "outputId": "ac60e1cc-3b68-4ebc-d2cb-61dd89b8b9f3"
      },
      "execution_count": 4,
      "outputs": [
        {
          "output_type": "stream",
          "name": "stdout",
          "text": [
            "2\n"
          ]
        }
      ]
    },
    {
      "cell_type": "code",
      "source": [
        "arr=np.array([0,1,2,2,7,8,9])\n",
        "x2=np.searchsorted(arr,8,side='right')\n",
        "print(x2)"
      ],
      "metadata": {
        "colab": {
          "base_uri": "https://localhost:8080/"
        },
        "id": "aIw-jRurW9ZV",
        "outputId": "7f16e47e-6fbb-4372-95d5-a0c1eb6713db"
      },
      "execution_count": 5,
      "outputs": [
        {
          "output_type": "stream",
          "name": "stdout",
          "text": [
            "6\n"
          ]
        }
      ]
    },
    {
      "cell_type": "code",
      "source": [
        "arr=np.array([9,5,2,7,6,4])\n",
        "print(np.sort(arr))"
      ],
      "metadata": {
        "colab": {
          "base_uri": "https://localhost:8080/"
        },
        "id": "XRv8G9bxXBPq",
        "outputId": "ff25f460-489c-4707-9d7d-efabd0611582"
      },
      "execution_count": 6,
      "outputs": [
        {
          "output_type": "stream",
          "name": "stdout",
          "text": [
            "[2 4 5 6 7 9]\n"
          ]
        }
      ]
    },
    {
      "cell_type": "code",
      "source": [
        "arr=np.array([[7,4,9],[9,1,4]])\n",
        "print(np.sort(arr))"
      ],
      "metadata": {
        "colab": {
          "base_uri": "https://localhost:8080/"
        },
        "id": "gwEZbECzXHTr",
        "outputId": "24bf2641-542e-4b62-d4f6-d586e6500005"
      },
      "execution_count": 7,
      "outputs": [
        {
          "output_type": "stream",
          "name": "stdout",
          "text": [
            "[[4 7 9]\n",
            " [1 4 9]]\n"
          ]
        }
      ]
    },
    {
      "cell_type": "code",
      "source": [
        "import numpy as np\n",
        "arr=np.array([41,42,43,44])\n",
        "x=[True,False,True,False]\n",
        "narr=arr>42\n",
        "newarr=arr[narr]\n",
        "print(arr)\n",
        "print(x)\n",
        "print(narr)\n",
        "print(newarr)"
      ],
      "metadata": {
        "colab": {
          "base_uri": "https://localhost:8080/"
        },
        "id": "R4QcGCBSXLVB",
        "outputId": "629ff925-8a4c-4acf-9e28-e375607470db"
      },
      "execution_count": 8,
      "outputs": [
        {
          "output_type": "stream",
          "name": "stdout",
          "text": [
            "[41 42 43 44]\n",
            "[True, False, True, False]\n",
            "[False False  True  True]\n",
            "[43 44]\n"
          ]
        }
      ]
    },
    {
      "cell_type": "code",
      "source": [
        "arr=np.array([31,78,69,88])\n",
        "x=[\n",
        "False\n",
        ",True,True,False]\n",
        "newarr=arr[x]\n",
        "print(\n",
        "x)\n",
        "print(\n",
        "newarr\n",
        ")"
      ],
      "metadata": {
        "colab": {
          "base_uri": "https://localhost:8080/"
        },
        "id": "NliltvC1XjUq",
        "outputId": "5e0ae08d-5294-4666-d5c2-a434dabfc1a9"
      },
      "execution_count": 9,
      "outputs": [
        {
          "output_type": "stream",
          "name": "stdout",
          "text": [
            "[False, True, True, False]\n",
            "[78 69]\n"
          ]
        }
      ]
    }
  ]
}