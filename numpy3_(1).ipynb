{
  "nbformat": 4,
  "nbformat_minor": 0,
  "metadata": {
    "colab": {
      "provenance": []
    },
    "kernelspec": {
      "name": "python3",
      "display_name": "Python 3"
    },
    "language_info": {
      "name": "python"
    }
  },
  "cells": [
    {
      "cell_type": "code",
      "execution_count": 8,
      "metadata": {
        "colab": {
          "base_uri": "https://localhost:8080/"
        },
        "id": "HfkwlBNxWnaC",
        "outputId": "84c407db-c527-4439-d48d-6e9ae4ae035b"
      },
      "outputs": [
        {
          "output_type": "stream",
          "name": "stdout",
          "text": [
            "(array([1, 4]),)\n"
          ]
        }
      ],
      "source": [
        "import numpy as np\n",
        "arr=np.array([1,6,2,7,6,4])\n",
        "x=np.where(arr==6)\n",
        "print(x)"
      ]
    },
    {
      "cell_type": "code",
      "source": [
        "arr=np.array([1,6,2,7,6,4])\n",
        "x=np.where(arr/2==0)\n",
        "print(x)"
      ],
      "metadata": {
        "colab": {
          "base_uri": "https://localhost:8080/"
        },
        "id": "1DrUSO9eW2S4",
        "outputId": "15e9d5b6-0891-438d-ebe4-fafbde388924"
      },
      "execution_count": 4,
      "outputs": [
        {
          "output_type": "stream",
          "name": "stdout",
          "text": [
            "(array([], dtype=int64),)\n"
          ]
        }
      ]
    },
    {
      "cell_type": "code",
      "source": [
        "import numpy as np\n",
        "arr=np.array([0,1,2,2,7,8,9])\n",
        "x=np.searchsorted(arr,3,side='left')\n",
        "print(x)"
      ],
      "metadata": {
        "colab": {
          "base_uri": "https://localhost:8080/"
        },
        "id": "l-xLGfYVW5DB",
        "outputId": "86411c74-3f04-4a42-bf02-d58c93b41e7e"
      },
      "execution_count": null,
      "outputs": [
        {
          "output_type": "stream",
          "name": "stdout",
          "text": [
            "4\n"
          ]
        }
      ]
    },
    {
      "cell_type": "code",
      "source": [
        "arr=np.array([0,1,5,3,6,7,2])\n",
        "x1=np.searchsorted(arr,3,side='left')\n",
        "print(x1)"
      ],
      "metadata": {
        "colab": {
          "base_uri": "https://localhost:8080/"
        },
        "id": "YwfdonB6W7By",
        "outputId": "ac60e1cc-3b68-4ebc-d2cb-61dd89b8b9f3"
      },
      "execution_count": null,
      "outputs": [
        {
          "output_type": "stream",
          "name": "stdout",
          "text": [
            "2\n"
          ]
        }
      ]
    },
    {
      "cell_type": "code",
      "source": [
        "arr=np.array([0,1,2,2,7,8,9])\n",
        "x2=np.searchsorted(arr,8,side='right')\n",
        "print(x2)"
      ],
      "metadata": {
        "colab": {
          "base_uri": "https://localhost:8080/"
        },
        "id": "aIw-jRurW9ZV",
        "outputId": "7f16e47e-6fbb-4372-95d5-a0c1eb6713db"
      },
      "execution_count": null,
      "outputs": [
        {
          "output_type": "stream",
          "name": "stdout",
          "text": [
            "6\n"
          ]
        }
      ]
    },
    {
      "cell_type": "code",
      "source": [
        "arr=np.array([9,5,2,7,6,4])\n",
        "print(np.sort(arr))"
      ],
      "metadata": {
        "colab": {
          "base_uri": "https://localhost:8080/"
        },
        "id": "XRv8G9bxXBPq",
        "outputId": "ff25f460-489c-4707-9d7d-efabd0611582"
      },
      "execution_count": null,
      "outputs": [
        {
          "output_type": "stream",
          "name": "stdout",
          "text": [
            "[2 4 5 6 7 9]\n"
          ]
        }
      ]
    },
    {
      "cell_type": "code",
      "source": [
        "arr=np.array([[7,4,9],[9,1,4]])\n",
        "print(np.sort(arr))"
      ],
      "metadata": {
        "colab": {
          "base_uri": "https://localhost:8080/"
        },
        "id": "gwEZbECzXHTr",
        "outputId": "24bf2641-542e-4b62-d4f6-d586e6500005"
      },
      "execution_count": null,
      "outputs": [
        {
          "output_type": "stream",
          "name": "stdout",
          "text": [
            "[[4 7 9]\n",
            " [1 4 9]]\n"
          ]
        }
      ]
    },
    {
      "cell_type": "code",
      "source": [
        "import numpy as np\n",
        "arr=np.array([31,78,68,88])\n",
        "x=[False,True,True,False]\n",
        "newarr=arr[x]\n",
        "print(x)\n",
        "print(newarr)"
      ],
      "metadata": {
        "colab": {
          "base_uri": "https://localhost:8080/"
        },
        "id": "R4QcGCBSXLVB",
        "outputId": "3f129302-2b00-4e94-fd31-88deb901ea5f"
      },
      "execution_count": 9,
      "outputs": [
        {
          "output_type": "stream",
          "name": "stdout",
          "text": [
            "[False, True, True, False]\n",
            "[78 68]\n"
          ]
        }
      ]
    },
    {
      "cell_type": "code",
      "source": [
        "arr=np.array([31,78,68,88])\n",
        "filter_arr=arr>70\n",
        "newarr=arr[filter_arr]\n",
        "print(filter_arr)\n",
        "print(newarr)"
      ],
      "metadata": {
        "colab": {
          "base_uri": "https://localhost:8080/"
        },
        "id": "NliltvC1XjUq",
        "outputId": "afe3a226-9bcc-45e0-9163-71137d0d37f9"
      },
      "execution_count": 10,
      "outputs": [
        {
          "output_type": "stream",
          "name": "stdout",
          "text": [
            "[False  True False  True]\n",
            "[78 88]\n"
          ]
        }
      ]
    }
  ]
}